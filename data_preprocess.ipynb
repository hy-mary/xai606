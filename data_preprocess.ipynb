{
 "cells": [
  {
   "cell_type": "code",
   "execution_count": 1,
   "id": "0f42eb1a",
   "metadata": {},
   "outputs": [],
   "source": [
    "import warnings\n",
    "warnings.simplefilter(action='ignore')\n",
    "\n",
    "import pandas as pd\n",
    "from sklearn.model_selection import train_test_split"
   ]
  },
  {
   "cell_type": "code",
   "execution_count": 2,
   "id": "011c5313",
   "metadata": {},
   "outputs": [],
   "source": [
    "df_train =  pd.read_csv(\"./dataset/raw_train.csv\")"
   ]
  },
  {
   "cell_type": "code",
   "execution_count": 3,
   "id": "848e2b51",
   "metadata": {},
   "outputs": [
    {
     "data": {
      "text/html": [
       "<div>\n",
       "<style scoped>\n",
       "    .dataframe tbody tr th:only-of-type {\n",
       "        vertical-align: middle;\n",
       "    }\n",
       "\n",
       "    .dataframe tbody tr th {\n",
       "        vertical-align: top;\n",
       "    }\n",
       "\n",
       "    .dataframe thead th {\n",
       "        text-align: right;\n",
       "    }\n",
       "</style>\n",
       "<table border=\"1\" class=\"dataframe\">\n",
       "  <thead>\n",
       "    <tr style=\"text-align: right;\">\n",
       "      <th></th>\n",
       "      <th>context</th>\n",
       "      <th>label</th>\n",
       "      <th>year</th>\n",
       "      <th>test_type</th>\n",
       "      <th>question_number</th>\n",
       "      <th>question</th>\n",
       "      <th>answers</th>\n",
       "    </tr>\n",
       "  </thead>\n",
       "  <tbody>\n",
       "    <tr>\n",
       "      <th>0</th>\n",
       "      <td>Speculations about the meaning and purpose of ...</td>\n",
       "      <td>True</td>\n",
       "      <td>2020</td>\n",
       "      <td>짝수형</td>\n",
       "      <td>29</td>\n",
       "      <td>다음 글의 밑줄 친 부분 중, 어법상 틀린 것은?</td>\n",
       "      <td>1</td>\n",
       "    </tr>\n",
       "    <tr>\n",
       "      <th>1</th>\n",
       "      <td>Such primitive societies,  [as] Steven Mithen ...</td>\n",
       "      <td>True</td>\n",
       "      <td>2020</td>\n",
       "      <td>짝수형</td>\n",
       "      <td>29</td>\n",
       "      <td>다음 글의 밑줄 친 부분 중, 어법상 틀린 것은?</td>\n",
       "      <td>2</td>\n",
       "    </tr>\n",
       "    <tr>\n",
       "      <th>2</th>\n",
       "      <td>The dual expressions of this tendency are anth...</td>\n",
       "      <td>True</td>\n",
       "      <td>2020</td>\n",
       "      <td>짝수형</td>\n",
       "      <td>29</td>\n",
       "      <td>다음 글의 밑줄 친 부분 중, 어법상 틀린 것은?</td>\n",
       "      <td>3</td>\n",
       "    </tr>\n",
       "    <tr>\n",
       "      <th>3</th>\n",
       "      <td>Thus the natural world is conceptualized in te...</td>\n",
       "      <td>True</td>\n",
       "      <td>2020</td>\n",
       "      <td>짝수형</td>\n",
       "      <td>29</td>\n",
       "      <td>다음 글의 밑줄 친 부분 중, 어법상 틀린 것은?</td>\n",
       "      <td>0</td>\n",
       "    </tr>\n",
       "    <tr>\n",
       "      <th>4</th>\n",
       "      <td>When considered in this light, the visual preo...</td>\n",
       "      <td>False</td>\n",
       "      <td>2020</td>\n",
       "      <td>짝수형</td>\n",
       "      <td>29</td>\n",
       "      <td>다음 글의 밑줄 친 부분 중, 어법상 틀린 것은?</td>\n",
       "      <td>4</td>\n",
       "    </tr>\n",
       "  </tbody>\n",
       "</table>\n",
       "</div>"
      ],
      "text/plain": [
       "                                             context  label  year test_type  \\\n",
       "0  Speculations about the meaning and purpose of ...   True  2020       짝수형   \n",
       "1  Such primitive societies,  [as] Steven Mithen ...   True  2020       짝수형   \n",
       "2  The dual expressions of this tendency are anth...   True  2020       짝수형   \n",
       "3  Thus the natural world is conceptualized in te...   True  2020       짝수형   \n",
       "4  When considered in this light, the visual preo...  False  2020       짝수형   \n",
       "\n",
       "   question_number                     question answers  \n",
       "0               29  다음 글의 밑줄 친 부분 중, 어법상 틀린 것은?       1  \n",
       "1               29  다음 글의 밑줄 친 부분 중, 어법상 틀린 것은?       2  \n",
       "2               29  다음 글의 밑줄 친 부분 중, 어법상 틀린 것은?       3  \n",
       "3               29  다음 글의 밑줄 친 부분 중, 어법상 틀린 것은?       0  \n",
       "4               29  다음 글의 밑줄 친 부분 중, 어법상 틀린 것은?       4  "
      ]
     },
     "execution_count": 3,
     "metadata": {},
     "output_type": "execute_result"
    }
   ],
   "source": [
    "df_train.head()"
   ]
  },
  {
   "cell_type": "code",
   "execution_count": 4,
   "id": "59027fde",
   "metadata": {},
   "outputs": [],
   "source": [
    "df_train = df_train.loc[:, ['context', 'label']]"
   ]
  },
  {
   "cell_type": "code",
   "execution_count": 5,
   "id": "7a3538a6",
   "metadata": {},
   "outputs": [],
   "source": [
    "def clean_bracket(string):\n",
    "    string = string.replace(\"[\", \"\")\n",
    "    string = string.replace(\"]\", \"\")\n",
    "    return string"
   ]
  },
  {
   "cell_type": "code",
   "execution_count": 6,
   "id": "da4c4c1e",
   "metadata": {},
   "outputs": [],
   "source": [
    "df_train[\"context\"] = df_train[\"context\"].map(clean_bracket)\n",
    "df_train[\"label\"] = df_train[\"label\"].map(int)"
   ]
  },
  {
   "cell_type": "code",
   "execution_count": 7,
   "id": "fb7a96c6",
   "metadata": {},
   "outputs": [
    {
     "data": {
      "text/html": [
       "<div>\n",
       "<style scoped>\n",
       "    .dataframe tbody tr th:only-of-type {\n",
       "        vertical-align: middle;\n",
       "    }\n",
       "\n",
       "    .dataframe tbody tr th {\n",
       "        vertical-align: top;\n",
       "    }\n",
       "\n",
       "    .dataframe thead th {\n",
       "        text-align: right;\n",
       "    }\n",
       "</style>\n",
       "<table border=\"1\" class=\"dataframe\">\n",
       "  <thead>\n",
       "    <tr style=\"text-align: right;\">\n",
       "      <th></th>\n",
       "      <th>context</th>\n",
       "      <th>label</th>\n",
       "    </tr>\n",
       "  </thead>\n",
       "  <tbody>\n",
       "    <tr>\n",
       "      <th>0</th>\n",
       "      <td>Speculations about the meaning and purpose of ...</td>\n",
       "      <td>1</td>\n",
       "    </tr>\n",
       "    <tr>\n",
       "      <th>1</th>\n",
       "      <td>Such primitive societies,  as Steven Mithen em...</td>\n",
       "      <td>1</td>\n",
       "    </tr>\n",
       "    <tr>\n",
       "      <th>2</th>\n",
       "      <td>The dual expressions of this tendency are anth...</td>\n",
       "      <td>1</td>\n",
       "    </tr>\n",
       "    <tr>\n",
       "      <th>3</th>\n",
       "      <td>Thus the natural world is conceptualized in te...</td>\n",
       "      <td>1</td>\n",
       "    </tr>\n",
       "    <tr>\n",
       "      <th>4</th>\n",
       "      <td>When considered in this light, the visual preo...</td>\n",
       "      <td>0</td>\n",
       "    </tr>\n",
       "  </tbody>\n",
       "</table>\n",
       "</div>"
      ],
      "text/plain": [
       "                                             context  label\n",
       "0  Speculations about the meaning and purpose of ...      1\n",
       "1  Such primitive societies,  as Steven Mithen em...      1\n",
       "2  The dual expressions of this tendency are anth...      1\n",
       "3  Thus the natural world is conceptualized in te...      1\n",
       "4  When considered in this light, the visual preo...      0"
      ]
     },
     "execution_count": 7,
     "metadata": {},
     "output_type": "execute_result"
    }
   ],
   "source": [
    "df_train.head()"
   ]
  },
  {
   "cell_type": "code",
   "execution_count": 8,
   "id": "daa16c3d",
   "metadata": {},
   "outputs": [
    {
     "data": {
      "text/plain": [
       "((179, 2), (45, 2))"
      ]
     },
     "execution_count": 8,
     "metadata": {},
     "output_type": "execute_result"
    }
   ],
   "source": [
    "train_set, val_set = train_test_split(df_train, test_size = 0.2)\n",
    "\n",
    "train_set.shape, val_set.shape"
   ]
  },
  {
   "cell_type": "code",
   "execution_count": 9,
   "id": "088f42bb",
   "metadata": {},
   "outputs": [],
   "source": [
    "train_set.to_csv(\"./dataset/processed_train.tsv\", sep=\"\\t\", index=False)\n",
    "val_set.to_csv(\"./dataset/processed_val.tsv\", sep=\"\\t\", index=False)"
   ]
  },
  {
   "cell_type": "code",
   "execution_count": 10,
   "id": "81ab0cf7",
   "metadata": {},
   "outputs": [
    {
     "data": {
      "text/plain": [
       "(                                             context  label\n",
       " 0  If we had to encode it in our brains note by n...      1\n",
       " 1  Instead, the subjects were found to have chose...      1\n",
       " 2  When the egg of the thief hatches, it kills th...      1\n",
       " 3  When considered in this light, the visual preo...      0\n",
       " 4  For every toxic substance, process, or product...      1,\n",
       "                                              context  label\n",
       " 0  Sometimes called brood parasites, these bees a...      0\n",
       " 1  If an animal is innately programmed for some t...      1\n",
       " 2  Things that in real life are imperfectly reali...      1\n",
       " 3  Such primitive societies,  as Steven Mithen em...      1\n",
       " 4  For example, it is impossible to guess from th...      1)"
      ]
     },
     "execution_count": 10,
     "metadata": {},
     "output_type": "execute_result"
    }
   ],
   "source": [
    "trainset = pd.read_csv('./dataset/processed_train.tsv', delimiter='\\t')\n",
    "valset = pd.read_csv('./dataset/processed_val.tsv', delimiter='\\t')\n",
    "trainset.head(), valset.head()"
   ]
  },
  {
   "cell_type": "code",
   "execution_count": null,
   "id": "bb14b6bb",
   "metadata": {},
   "outputs": [],
   "source": []
  }
 ],
 "metadata": {
  "kernelspec": {
   "display_name": "Python 3 (ipykernel)",
   "language": "python",
   "name": "python3"
  },
  "language_info": {
   "codemirror_mode": {
    "name": "ipython",
    "version": 3
   },
   "file_extension": ".py",
   "mimetype": "text/x-python",
   "name": "python",
   "nbconvert_exporter": "python",
   "pygments_lexer": "ipython3",
   "version": "3.9.13"
  }
 },
 "nbformat": 4,
 "nbformat_minor": 5
}
